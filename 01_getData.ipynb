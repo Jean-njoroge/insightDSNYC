{
 "cells": [
  {
   "cell_type": "markdown",
   "metadata": {},
   "source": [
    "* Data Source: https://bulkdata.uspto.gov/data2/patent/grant/redbook/fulltex\n",
    " * Patent Application Full Text Data (No Images) (2005-2010)\\\n",
    " * Contains the full text of each patent application (non-provisional utility and plant)\n",
    " * Subset of the Patent Application Full Text Data with Embedded TIFF Images.\n"
   ]
  },
  {
   "cell_type": "code",
   "execution_count": 12,
   "metadata": {},
   "outputs": [
    {
     "name": "stdout",
     "output_type": "stream",
     "text": [
      "Shape of data: (98511, 7)\n",
      "First two columns of data:\n",
      "                                            abstract  \\\n",
      "0  A head-worn shading visor includes a visor bla...   \n",
      "1  A protective skin device that may be used to p...   \n",
      "\n",
      "                                              claims  \\\n",
      "0  1. A head-worn shading visor comprising a viso...   \n",
      "1  1. A skin protection device for fingers and/or...   \n",
      "\n",
      "                                         description patent_number  \\\n",
      "0  Hat is a commonly used article for shading pur...      06839904   \n",
      "1  In one embodiment, the device includes a sheat...      06839905   \n",
      "\n",
      "                                    invention_title  \\\n",
      "0                           Head-worn shading visor   \n",
      "1  Skin protection device for fingers and/or thumbs   \n",
      "\n",
      "                        company  year  \n",
      "0  Toyo Boseki Kabushiki Kaisha  2005  \n",
      "1             Brublake Co., LLC  2005  \n",
      "Type of data: <class 'pandas.core.frame.DataFrame'>\n"
     ]
    }
   ],
   "source": [
    "# %load loadData_workflow/loadData.py\n",
    "#!/usr/bin/env python3\n",
    "\"\"\"\n",
    "Created on Sat Jul  1 13:21:26 2017\n",
    "import pandas as pd\n",
    "\n",
    "@author: sheeroh\n",
    "\"\"\"\n",
    "import os\n",
    "import pandas as pd \n",
    "\n",
    "\n",
    "\n",
    "os.chdir('/Users/sheeroh/Box Sync/2_projects/insightDSNYC/data/initcsv_data')\n",
    "\n",
    "csvFiles = ['ipg050111.csv','ipg050426.csv','ipg060425.csv', 'ipg060711.csv', 'ipg070227.csv','ipg070116.csv', \n",
    "           'ipg080902.csv', 'ipg081216.csv', 'ipg090818.csv', 'ipg090203.csv', 'ipg101214.csv', 'ipg100713.csv',\n",
    "           'ipg110419.csv', 'ipg110419.csv', 'ipg111101.csv', 'ipg120626.csv', 'ipg120626.csv', 'ipg130423.csv', \n",
    "           'ipg131001.csv', 'ipg140909.csv', 'ipg141125.csv', 'ipg150407.csv', 'ipg150728.csv']\n",
    "list_ = []\n",
    "for files in csvFiles:\n",
    "    df = pd.read_csv(files, index_col=0, header=0)\n",
    "    list_.append(df)\n",
    "    frame = pd.concat(list_, ignore_index=True)\n",
    "    \n",
    "#rename column orgnames to company\n",
    "frame = frame.rename (columns ={'orgnames':'company'})\n",
    "frame = frame.rename (columns ={'doc_number':'patent_number'})\n",
    "\n",
    "# all patent documents are US filed-drop the country column\n",
    "frame = frame.drop(['country'], axis=1)\n",
    "#drop null values\n",
    "frame =frame.dropna()\n",
    "\n",
    "frame['DateTime'] = frame['date'].apply(lambda x: pd.to_datetime(str(x), format='%Y%m%d'))\n",
    "\n",
    "#create new column with month and year\n",
    "frame['year'] = pd.DatetimeIndex(frame['DateTime']).year\n",
    "frame['month'] = pd.DatetimeIndex(frame['DateTime']).month\n",
    "frame = frame.drop('date', axis =1,inplace =False)\n",
    "frame = frame.drop('month', axis =1,inplace =False)\n",
    "frame = frame.drop('DateTime', axis =1,inplace =False)\n",
    "\n",
    "#drop idxcolumns with column names where the first three letters of the column names are strings\n",
    "frame = frame[frame.patent_number.str.contains(\"PP\") == False]\n",
    "frame = frame[frame.patent_number.str.contains(\"RE\") == False]\n",
    "frame = frame[frame.patent_number.str.contains(\"D\") == False]\n",
    "\n",
    "#since I removed some rows, here I want to reset index\n",
    "frame = frame.reset_index(drop=True)\n",
    "\n",
    "#check if all data has been successfully loaded\n",
    "print(\"Shape of data: {}\".format(frame.shape))\n",
    "\n",
    "#Check all data has been successfully loaded (array shape):\n",
    "print(\"First two columns of data:\\n{}\".format(frame[:2]))\n",
    "\n",
    "print(\"Type of data: {}\".format(type(frame)))\n",
    "\n",
    "#check if dataframe has the correct number of columns\n",
    "frame.head()\n",
    "\n",
    "#to save the dataframe, frame to patdocs_clean.pkl\n",
    "frame.to_pickle('/Users/sheeroh/Box Sync/2_projects/insightDSNYC/data/patdocs_clean.pkl', compression ='infer')\n",
    "         "
   ]
  },
  {
   "cell_type": "code",
   "execution_count": 13,
   "metadata": {},
   "outputs": [
    {
     "data": {
      "text/html": [
       "<div>\n",
       "<style>\n",
       "    .dataframe thead tr:only-child th {\n",
       "        text-align: right;\n",
       "    }\n",
       "\n",
       "    .dataframe thead th {\n",
       "        text-align: left;\n",
       "    }\n",
       "\n",
       "    .dataframe tbody tr th {\n",
       "        vertical-align: top;\n",
       "    }\n",
       "</style>\n",
       "<table border=\"1\" class=\"dataframe\">\n",
       "  <thead>\n",
       "    <tr style=\"text-align: right;\">\n",
       "      <th></th>\n",
       "      <th>abstract</th>\n",
       "      <th>claims</th>\n",
       "      <th>description</th>\n",
       "      <th>patent_number</th>\n",
       "      <th>invention_title</th>\n",
       "      <th>company</th>\n",
       "      <th>year</th>\n",
       "    </tr>\n",
       "  </thead>\n",
       "  <tbody>\n",
       "    <tr>\n",
       "      <th>0</th>\n",
       "      <td>A head-worn shading visor includes a visor bla...</td>\n",
       "      <td>1. A head-worn shading visor comprising a viso...</td>\n",
       "      <td>Hat is a commonly used article for shading pur...</td>\n",
       "      <td>06839904</td>\n",
       "      <td>Head-worn shading visor</td>\n",
       "      <td>Toyo Boseki Kabushiki Kaisha</td>\n",
       "      <td>2005</td>\n",
       "    </tr>\n",
       "    <tr>\n",
       "      <th>1</th>\n",
       "      <td>A protective skin device that may be used to p...</td>\n",
       "      <td>1. A skin protection device for fingers and/or...</td>\n",
       "      <td>In one embodiment, the device includes a sheat...</td>\n",
       "      <td>06839905</td>\n",
       "      <td>Skin protection device for fingers and/or thumbs</td>\n",
       "      <td>Brublake Co., LLC</td>\n",
       "      <td>2005</td>\n",
       "    </tr>\n",
       "    <tr>\n",
       "      <th>2</th>\n",
       "      <td>A joint protector of high strength impact resi...</td>\n",
       "      <td>1. A high strength impact resistant knee prote...</td>\n",
       "      <td>This application is a continuation-in-part of ...</td>\n",
       "      <td>06839906</td>\n",
       "      <td>High strength impact resistant knee protector</td>\n",
       "      <td>Brublake Co., LLC</td>\n",
       "      <td>2005</td>\n",
       "    </tr>\n",
       "    <tr>\n",
       "      <th>3</th>\n",
       "      <td>An apron-like, unisex garment is disclosed, ha...</td>\n",
       "      <td>1. An apron-like, unisex garment which ties ar...</td>\n",
       "      <td>The present invention concerns an apron&amp;#x2014...</td>\n",
       "      <td>06839907</td>\n",
       "      <td>Craftworker's apron</td>\n",
       "      <td>Brublake Co., LLC</td>\n",
       "      <td>2005</td>\n",
       "    </tr>\n",
       "    <tr>\n",
       "      <th>4</th>\n",
       "      <td>This invention provides women's apparel having...</td>\n",
       "      <td>1. A breast support apparel comprising: a pair...</td>\n",
       "      <td>This invention provides women's apparel having...</td>\n",
       "      <td>06839908</td>\n",
       "      <td>Maternity and/or nursing breast support for fa...</td>\n",
       "      <td>NurtureBra LLC</td>\n",
       "      <td>2005</td>\n",
       "    </tr>\n",
       "  </tbody>\n",
       "</table>\n",
       "</div>"
      ],
      "text/plain": [
       "                                            abstract  \\\n",
       "0  A head-worn shading visor includes a visor bla...   \n",
       "1  A protective skin device that may be used to p...   \n",
       "2  A joint protector of high strength impact resi...   \n",
       "3  An apron-like, unisex garment is disclosed, ha...   \n",
       "4  This invention provides women's apparel having...   \n",
       "\n",
       "                                              claims  \\\n",
       "0  1. A head-worn shading visor comprising a viso...   \n",
       "1  1. A skin protection device for fingers and/or...   \n",
       "2  1. A high strength impact resistant knee prote...   \n",
       "3  1. An apron-like, unisex garment which ties ar...   \n",
       "4  1. A breast support apparel comprising: a pair...   \n",
       "\n",
       "                                         description patent_number  \\\n",
       "0  Hat is a commonly used article for shading pur...      06839904   \n",
       "1  In one embodiment, the device includes a sheat...      06839905   \n",
       "2  This application is a continuation-in-part of ...      06839906   \n",
       "3  The present invention concerns an apron&#x2014...      06839907   \n",
       "4  This invention provides women's apparel having...      06839908   \n",
       "\n",
       "                                     invention_title  \\\n",
       "0                            Head-worn shading visor   \n",
       "1   Skin protection device for fingers and/or thumbs   \n",
       "2      High strength impact resistant knee protector   \n",
       "3                                Craftworker's apron   \n",
       "4  Maternity and/or nursing breast support for fa...   \n",
       "\n",
       "                        company  year  \n",
       "0  Toyo Boseki Kabushiki Kaisha  2005  \n",
       "1             Brublake Co., LLC  2005  \n",
       "2             Brublake Co., LLC  2005  \n",
       "3             Brublake Co., LLC  2005  \n",
       "4                NurtureBra LLC  2005  "
      ]
     },
     "execution_count": 13,
     "metadata": {},
     "output_type": "execute_result"
    }
   ],
   "source": [
    "#check if all data has been successfully loaded\n",
    "frame.head()"
   ]
  },
  {
   "cell_type": "code",
   "execution_count": 101,
   "metadata": {},
   "outputs": [
    {
     "data": {
      "image/png": "[encoded data removed]",
      "text/plain": [
       "<matplotlib.figure.Figure at 0x1237eff98>"
      ]
     },
     "metadata": {},
     "output_type": "display_data"
    }
   ],
   "source": [
    "#/Users/sheeroh/Box Sync/2_projects/insightDSNYC\n",
    "% matplotlib inline\n",
    "import matplotlib.pyplot as plt\n",
    "import seaborn as sns\n",
    "plt.style.use('fivethirtyeight')\n",
    "sns.set_style(\"white\")\n",
    "plt.figure(figsize=(6,4))\n",
    "\n",
    "ax = sns.countplot(x=\"year\", data=frame, color=\"Y\")\n",
    "ax.set_xlabel('Year', fontsize=13)\n",
    "ax.set_ylabel('Patent_Count', fontsize=13)\n",
    "ax.set_title ('Subset of utility patents plublished',fontsize=14)\n",
    "plt.savefig('../../figures/subset_of_utility_patents_published .png')"
   ]
  },
  {
   "cell_type": "code",
   "execution_count": 82,
   "metadata": {
    "collapsed": true
   },
   "outputs": [],
   "source": [
    "#check if all data has been successfully loaded\n",
    "#print(\"Shape of data: {}\".format(frame.shape))"
   ]
  },
  {
   "cell_type": "code",
   "execution_count": null,
   "metadata": {
    "collapsed": true
   },
   "outputs": [],
   "source": [
    "#Check all data has been successfully loaded (array shape):\n",
    "#print(\"First two columns of data:\\n{}\".format(frame[:2]))"
   ]
  },
  {
   "cell_type": "code",
   "execution_count": null,
   "metadata": {
    "collapsed": true
   },
   "outputs": [],
   "source": [
    "#drop idxcolumns with column names where the first three letters of the column names are strings\n",
    "#frame = frame[frame.doc_number.str.contains(\"PP\") == False]\n",
    "#frame = frame[frame.doc_number.str.contains(\"RE\") == False]\n",
    "#frame = frame[frame.doc_number.str.contains(\"D\") == False]"
   ]
  },
  {
   "cell_type": "code",
   "execution_count": null,
   "metadata": {
    "collapsed": true
   },
   "outputs": [],
   "source": [
    "#frame.set_index(\"doc_number\", inplace=False)"
   ]
  },
  {
   "cell_type": "code",
   "execution_count": null,
   "metadata": {
    "collapsed": true
   },
   "outputs": [],
   "source": [
    "frame.head(100)"
   ]
  },
  {
   "cell_type": "code",
   "execution_count": null,
   "metadata": {
    "collapsed": true
   },
   "outputs": [],
   "source": [
    "\n",
    "frame['year'].value_counts().plot(kind='bar')"
   ]
  },
  {
   "cell_type": "code",
   "execution_count": null,
   "metadata": {
    "collapsed": true
   },
   "outputs": [],
   "source": [
    "#to save the dataframe, df to 123.pkl\n",
    "#frame.to_pickle('/Users/sheeroh/Box Sync/2_projects/insightDSNYC/data/patdocs_clean.pkl', compression ='infer')"
   ]
  },
  {
   "cell_type": "code",
   "execution_count": null,
   "metadata": {
    "collapsed": true
   },
   "outputs": [],
   "source": [
    "#patdocs = pd.read_pickle( 'patdocs_clean.pkl')"
   ]
  },
  {
   "cell_type": "markdown",
   "metadata": {},
   "source": [
    "### Summary of this section:\n",
    "1. downloaded data and converted into csv files- to work in pandas-I am sure there is a better way, but would be interesting to look at that later.\n",
    "2. Renamed the column orgnames to company -makes sense to name company as opposed to orgnames, and doc_number to patent_number (-Need to change this in the python script)\n",
    "3. I converted the date column  to a datetime column and then filter based on date and year.\n",
    "4. I dropped columns (data, country, month)- I want to apply the filter based on year, although it would be also interesting to filter by month? \n",
    "5. Since i want to look at utility patents, I dropped all columns with patent number starting with  \"PP\" \"RE\", which refelcts plant patents and reissue patents respectively. \n",
    "6. Created a python package, loadData_workflow, to call the loadData.py script- makes it easier to load the data.\n",
    "7. Saved the dataframe as a pickle file extension. \n",
    "\n",
    "\n"
   ]
  },
  {
   "cell_type": "code",
   "execution_count": null,
   "metadata": {
    "collapsed": true
   },
   "outputs": [],
   "source": []
  }
 ],
 "metadata": {
  "kernelspec": {
   "display_name": "Python 3",
   "language": "python",
   "name": "python3"
  },
  "language_info": {
   "codemirror_mode": {
    "name": "ipython",
    "version": 3
   },
   "file_extension": ".py",
   "mimetype": "text/x-python",
   "name": "python",
   "nbconvert_exporter": "python",
   "pygments_lexer": "ipython3",
   "version": "3.6.1"
  }
 },
 "nbformat": 4,
 "nbformat_minor": 2
}
