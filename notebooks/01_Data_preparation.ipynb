{
 "cells": [
  {
   "cell_type": "markdown",
   "metadata": {},
   "source": [
    "### Topic modeling in patent documents\n",
    "by Jean Njoroge (Insight Data Science Fellow Project)"
   ]
  },
  {
   "cell_type": "markdown",
   "metadata": {},
   "source": [
    "* Data Source: https://bulkdata.uspto.gov/data2/patent/grant/redbook/fulltex\n",
    " * Patent Application Full Text Data (No Images) (2005-2010)\\\n",
    " * Contains the full text of each patent application (non-provisional utility and plant)\n",
    " * Subset of the Patent Application Full Text Data with Embedded TIFF Images.\n"
   ]
  },
  {
   "cell_type": "markdown",
   "metadata": {},
   "source": [
    "## Data preparation\n",
    "### Load data "
   ]
  },
  {
   "cell_type": "code",
   "execution_count": null,
   "metadata": {},
   "outputs": [],
   "source": [
    "import os\n",
    "import pandas as pd \n",
    "os.chdir('/Users/sheeroh/Box Sync/2_projects/insightDSNYC/data/')\n",
    "from loadData_workflow import loadData # workflow from loaddata.py\n",
    "\n",
    "#load the saved pickle file patent document\n",
    "patdocs = pd.read_pickle( 'patdocs_clean.pkl')\n",
    "\n",
    "#check if all data has been successfully loaded\n",
    "patdocs.head(2)"
   ]
  },
  {
   "cell_type": "code",
   "execution_count": null,
   "metadata": {},
   "outputs": [],
   "source": [
    "\n",
    "% matplotlib inline\n",
    "import matplotlib.pyplot as plt\n",
    "import seaborn as sns\n",
    "plt.style.use('fivethirtyeight')\n",
    "sns.set_style(\"white\")\n",
    "plt.figure(figsize=(6,4))\n",
    "\n",
    "ax = sns.countplot(x=\"year\", data=patdocs, color=\"Y\")\n",
    "ax.set_xlabel('Year', fontsize=13)\n",
    "ax.set_ylabel('Patent_Count', fontsize=13)\n",
    "ax.set_title ('Subset of utility patents plublished',fontsize=14)\n",
    "plt.savefig('../figures/subset_of_utility_patents_published .png')"
   ]
  },
  {
   "cell_type": "markdown",
   "metadata": {},
   "source": [
    "### Summary of this section:\n",
    "1. downloaded data and converted into csv files- to work in pandas-I am sure there is a better way, but would be interesting to look at that later.\n",
    "2. Renamed the column orgnames to company -makes sense to name company as opposed to orgnames, and doc_number to patent_number (-Need to change this in the python script)\n",
    "3. I converted the date column  to a datetime column and then filter based on date and year.\n",
    "4. I dropped columns (data, country, month)- I want to apply the filter based on year, although it would be also interesting to filter by month? \n",
    "5. Since i want to look at utility patents, I dropped all columns with patent number starting with  \"PP\" \"RE\", which refelcts plant patents and reissue patents respectively. \n",
    "6. Created a python package, loadData_workflow, to call the loadData.py script- makes it easier to load the data.\n",
    "7. Saved the dataframe as a pickle file extension. \n",
    "\n",
    "\n"
   ]
  }
 ],
 "metadata": {
  "kernelspec": {
   "display_name": "Python 3",
   "language": "python",
   "name": "python3"
  },
  "language_info": {
   "codemirror_mode": {
    "name": "ipython",
    "version": 3
   },
   "file_extension": ".py",
   "mimetype": "text/x-python",
   "name": "python",
   "nbconvert_exporter": "python",
   "pygments_lexer": "ipython3",
   "version": "3.6.1"
  }
 },
 "nbformat": 4,
 "nbformat_minor": 2
}
